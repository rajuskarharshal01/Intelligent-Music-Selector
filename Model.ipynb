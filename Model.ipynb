{
  "cells": [
    {
      "cell_type": "code",
      "execution_count": 1,
      "metadata": {
        "colab": {
          "base_uri": "https://localhost:8080/",
          "height": 73
        },
        "id": "IUYEi43Sfil_",
        "outputId": "81e15c4f-0740-4a6c-e96a-49299de9bf58"
      },
      "outputs": [
        {
          "name": "stdout",
          "output_type": "stream",
          "text": [
            "  artist                   song                                        link  \\\n",
            "0   ABBA  Ahe's My Kind Of Girl  /a/abba/ahes+my+kind+of+girl_20598417.html   \n",
            "1   ABBA       Andante, Andante       /a/abba/andante+andante_20002708.html   \n",
            "2   ABBA         As Good As New        /a/abba/as+good+as+new_20003033.html   \n",
            "3   ABBA                   Bang                  /a/abba/bang_20598415.html   \n",
            "4   ABBA       Bang-A-Boomerang      /a/abba/bang+a+boomerang_20002668.html   \n",
            "\n",
            "                                                text  \n",
            "0  Look at her face, it's a wonderful face  \\r\\nA...  \n",
            "1  Take it easy with me, please  \\r\\nTouch me gen...  \n",
            "2  I'll never know why I had to go  \\r\\nWhy I had...  \n",
            "3  Making somebody happy is a question of give an...  \n",
            "4  Making somebody happy is a question of give an...  \n"
          ]
        }
      ],
      "source": [
        "import pandas as pd\n",
        "df = pd.read_csv(\"spotify_millsongdata.csv\")\n",
        "print(df.head())\n"
      ]
    },
    {
      "cell_type": "code",
      "execution_count": 39,
      "metadata": {},
      "outputs": [],
      "source": [
        "df = df[['song', 'artist', 'text']].dropna().reset_index(drop=True)\n",
        "df = df.sample(5000, random_state=42).reset_index(drop=True)\n",
        "df.to_pickle(\"df.pkl\") "
      ]
    },
    {
      "cell_type": "code",
      "execution_count": 36,
      "metadata": {
        "id": "3TleYaA5gU0K"
      },
      "outputs": [],
      "source": [
        "import pandas as pd"
      ]
    },
    {
      "cell_type": "code",
      "execution_count": 2,
      "metadata": {
        "id": "a8RBRaMEogos"
      },
      "outputs": [],
      "source": [
        "import pickle"
      ]
    },
    {
      "cell_type": "code",
      "execution_count": 3,
      "metadata": {
        "id": "ZV2Rk7JlmdHb"
      },
      "outputs": [],
      "source": [
        "import shutil\n"
      ]
    },
    {
      "cell_type": "code",
      "execution_count": 4,
      "metadata": {
        "colab": {
          "base_uri": "https://localhost:8080/"
        },
        "id": "JJhC_z2AnGQh",
        "outputId": "8cb30c3d-7ec4-40b5-e48a-794f19a59501"
      },
      "outputs": [
        {
          "name": "stderr",
          "output_type": "stream",
          "text": [
            "WARNING: Skipping nltk as it is not installed.\n"
          ]
        },
        {
          "name": "stdout",
          "output_type": "stream",
          "text": [
            "Collecting nltk\n",
            "  Downloading nltk-3.9.1-py3-none-any.whl.metadata (2.9 kB)\n",
            "Requirement already satisfied: click in d:\\ai\\music recommender system\\venv\\lib\\site-packages (from nltk) (8.2.1)\n",
            "Collecting joblib (from nltk)\n",
            "  Downloading joblib-1.5.1-py3-none-any.whl.metadata (5.6 kB)\n",
            "Collecting regex>=2021.8.3 (from nltk)\n",
            "  Downloading regex-2024.11.6-cp312-cp312-win_amd64.whl.metadata (41 kB)\n",
            "     ---------------------------------------- 0.0/41.5 kB ? eta -:--:--\n",
            "     ---------------------------------------- 0.0/41.5 kB ? eta -:--:--\n",
            "     ---------------------------------------- 0.0/41.5 kB ? eta -:--:--\n",
            "     --------- ------------------------------ 10.2/41.5 kB ? eta -:--:--\n",
            "     ------------------ ------------------- 20.5/41.5 kB 165.2 kB/s eta 0:00:01\n",
            "     ------------------ ------------------- 20.5/41.5 kB 165.2 kB/s eta 0:00:01\n",
            "     -------------------------------------- 41.5/41.5 kB 200.7 kB/s eta 0:00:00\n",
            "Collecting tqdm (from nltk)\n",
            "  Downloading tqdm-4.67.1-py3-none-any.whl.metadata (57 kB)\n",
            "     ---------------------------------------- 0.0/57.7 kB ? eta -:--:--\n",
            "     ------- -------------------------------- 10.2/57.7 kB ? eta -:--:--\n",
            "     -------------------------------------- 57.7/57.7 kB 752.9 kB/s eta 0:00:00\n",
            "Requirement already satisfied: colorama in d:\\ai\\music recommender system\\venv\\lib\\site-packages (from click->nltk) (0.4.6)\n",
            "Downloading nltk-3.9.1-py3-none-any.whl (1.5 MB)\n",
            "   ---------------------------------------- 0.0/1.5 MB ? eta -:--:--\n",
            "   - -------------------------------------- 0.0/1.5 MB 991.0 kB/s eta 0:00:02\n",
            "   -- ------------------------------------- 0.1/1.5 MB 1.1 MB/s eta 0:00:02\n",
            "   ---- ----------------------------------- 0.2/1.5 MB 1.2 MB/s eta 0:00:02\n",
            "   ----- ---------------------------------- 0.2/1.5 MB 1.3 MB/s eta 0:00:02\n",
            "   ------- -------------------------------- 0.3/1.5 MB 1.2 MB/s eta 0:00:02\n",
            "   --------- ------------------------------ 0.4/1.5 MB 1.3 MB/s eta 0:00:01\n",
            "   ----------- ---------------------------- 0.4/1.5 MB 1.3 MB/s eta 0:00:01\n",
            "   ----------- ---------------------------- 0.4/1.5 MB 1.2 MB/s eta 0:00:01\n",
            "   ----------- ---------------------------- 0.5/1.5 MB 1.2 MB/s eta 0:00:01\n",
            "   ------------- -------------------------- 0.5/1.5 MB 1.1 MB/s eta 0:00:01\n",
            "   -------------- ------------------------- 0.5/1.5 MB 1.0 MB/s eta 0:00:01\n",
            "   --------------- ------------------------ 0.6/1.5 MB 1.0 MB/s eta 0:00:01\n",
            "   ----------------- ---------------------- 0.6/1.5 MB 1.1 MB/s eta 0:00:01\n",
            "   ------------------- -------------------- 0.7/1.5 MB 1.1 MB/s eta 0:00:01\n",
            "   --------------------- ------------------ 0.8/1.5 MB 1.2 MB/s eta 0:00:01\n",
            "   ----------------------- ---------------- 0.9/1.5 MB 1.2 MB/s eta 0:00:01\n",
            "   ------------------------- -------------- 1.0/1.5 MB 1.2 MB/s eta 0:00:01\n",
            "   ---------------------------- ----------- 1.1/1.5 MB 1.3 MB/s eta 0:00:01\n",
            "   ------------------------------- -------- 1.2/1.5 MB 1.3 MB/s eta 0:00:01\n",
            "   --------------------------------- ------ 1.2/1.5 MB 1.3 MB/s eta 0:00:01\n",
            "   ------------------------------------ --- 1.4/1.5 MB 1.4 MB/s eta 0:00:01\n",
            "   -------------------------------------- - 1.5/1.5 MB 1.4 MB/s eta 0:00:01\n",
            "   ---------------------------------------- 1.5/1.5 MB 1.5 MB/s eta 0:00:00\n",
            "Downloading regex-2024.11.6-cp312-cp312-win_amd64.whl (273 kB)\n",
            "   ---------------------------------------- 0.0/273.6 kB ? eta -:--:--\n",
            "   ----------- ---------------------------- 81.9/273.6 kB 4.5 MB/s eta 0:00:01\n",
            "   ----------------------------- ---------- 204.8/273.6 kB 2.5 MB/s eta 0:00:01\n",
            "   ---------------------------------------- 273.6/273.6 kB 2.4 MB/s eta 0:00:00\n",
            "Downloading joblib-1.5.1-py3-none-any.whl (307 kB)\n",
            "   ---------------------------------------- 0.0/307.7 kB ? eta -:--:--\n",
            "   -------------- ------------------------- 112.6/307.7 kB 3.3 MB/s eta 0:00:01\n",
            "   ----------------------------- ---------- 225.3/307.7 kB 2.8 MB/s eta 0:00:01\n",
            "   ---------------------------------------- 307.7/307.7 kB 2.4 MB/s eta 0:00:00\n",
            "Downloading tqdm-4.67.1-py3-none-any.whl (78 kB)\n",
            "   ---------------------------------------- 0.0/78.5 kB ? eta -:--:--\n",
            "   ---------------------------------------- 78.5/78.5 kB 4.6 MB/s eta 0:00:00\n",
            "Installing collected packages: tqdm, regex, joblib, nltk\n",
            "Successfully installed joblib-1.5.1 nltk-3.9.1 regex-2024.11.6 tqdm-4.67.1\n"
          ]
        },
        {
          "name": "stderr",
          "output_type": "stream",
          "text": [
            "\n",
            "[notice] A new release of pip is available: 24.0 -> 25.1.1\n",
            "[notice] To update, run: python.exe -m pip install --upgrade pip\n"
          ]
        }
      ],
      "source": [
        "!pip uninstall -y nltk\n",
        "!rm -rf /root/nltk_data\n",
        "!pip install --no-cache-dir nltk\n"
      ]
    },
    {
      "cell_type": "code",
      "execution_count": 5,
      "metadata": {
        "colab": {
          "base_uri": "https://localhost:8080/"
        },
        "id": "EZ3xKeRMfvOK",
        "outputId": "07a1d3b2-e1f9-4836-b10f-39a8b2712de4"
      },
      "outputs": [
        {
          "name": "stderr",
          "output_type": "stream",
          "text": [
            "[nltk_data] Downloading package punkt to\n",
            "[nltk_data]     C:\\Users\\DELL\\AppData\\Roaming\\nltk_data...\n",
            "[nltk_data]   Package punkt is already up-to-date!\n"
          ]
        },
        {
          "data": {
            "text/plain": [
              "True"
            ]
          },
          "execution_count": 5,
          "metadata": {},
          "output_type": "execute_result"
        }
      ],
      "source": [
        "import nltk\n",
        "nltk.download('punkt')\n",
        "\n",
        "\n"
      ]
    },
    {
      "cell_type": "code",
      "execution_count": 6,
      "metadata": {
        "id": "FxGQqTgbn5QY"
      },
      "outputs": [],
      "source": [
        "from nltk.tokenize import word_tokenize\n",
        "from nltk.stem.porter import PorterStemmer"
      ]
    },
    {
      "cell_type": "code",
      "execution_count": 7,
      "metadata": {
        "id": "2QUpZEIaf0Qi"
      },
      "outputs": [],
      "source": [
        "df = pd.read_csv(\"spotify_millsongdata.csv\")"
      ]
    },
    {
      "cell_type": "code",
      "execution_count": 8,
      "metadata": {
        "colab": {
          "base_uri": "https://localhost:8080/",
          "height": 206
        },
        "id": "cy5jxfCdhLoB",
        "outputId": "27e8dbad-8667-4763-f469-1fff7dac30ba"
      },
      "outputs": [
        {
          "data": {
            "text/html": [
              "<div>\n",
              "<style scoped>\n",
              "    .dataframe tbody tr th:only-of-type {\n",
              "        vertical-align: middle;\n",
              "    }\n",
              "\n",
              "    .dataframe tbody tr th {\n",
              "        vertical-align: top;\n",
              "    }\n",
              "\n",
              "    .dataframe thead th {\n",
              "        text-align: right;\n",
              "    }\n",
              "</style>\n",
              "<table border=\"1\" class=\"dataframe\">\n",
              "  <thead>\n",
              "    <tr style=\"text-align: right;\">\n",
              "      <th></th>\n",
              "      <th>artist</th>\n",
              "      <th>song</th>\n",
              "      <th>link</th>\n",
              "      <th>text</th>\n",
              "    </tr>\n",
              "  </thead>\n",
              "  <tbody>\n",
              "    <tr>\n",
              "      <th>57645</th>\n",
              "      <td>Ziggy Marley</td>\n",
              "      <td>Good Old Days</td>\n",
              "      <td>/z/ziggy+marley/good+old+days_10198588.html</td>\n",
              "      <td>Irie days come on play  \\r\\nLet the angels fly...</td>\n",
              "    </tr>\n",
              "    <tr>\n",
              "      <th>57646</th>\n",
              "      <td>Ziggy Marley</td>\n",
              "      <td>Hand To Mouth</td>\n",
              "      <td>/z/ziggy+marley/hand+to+mouth_20531167.html</td>\n",
              "      <td>Power to the workers  \\r\\nMore power  \\r\\nPowe...</td>\n",
              "    </tr>\n",
              "    <tr>\n",
              "      <th>57647</th>\n",
              "      <td>Zwan</td>\n",
              "      <td>Come With Me</td>\n",
              "      <td>/z/zwan/come+with+me_20148981.html</td>\n",
              "      <td>all you need  \\r\\nis something i'll believe  \\...</td>\n",
              "    </tr>\n",
              "    <tr>\n",
              "      <th>57648</th>\n",
              "      <td>Zwan</td>\n",
              "      <td>Desire</td>\n",
              "      <td>/z/zwan/desire_20148986.html</td>\n",
              "      <td>northern star  \\r\\nam i frightened  \\r\\nwhere ...</td>\n",
              "    </tr>\n",
              "    <tr>\n",
              "      <th>57649</th>\n",
              "      <td>Zwan</td>\n",
              "      <td>Heartsong</td>\n",
              "      <td>/z/zwan/heartsong_20148991.html</td>\n",
              "      <td>come in  \\r\\nmake yourself at home  \\r\\ni'm a ...</td>\n",
              "    </tr>\n",
              "  </tbody>\n",
              "</table>\n",
              "</div>"
            ],
            "text/plain": [
              "             artist           song  \\\n",
              "57645  Ziggy Marley  Good Old Days   \n",
              "57646  Ziggy Marley  Hand To Mouth   \n",
              "57647          Zwan   Come With Me   \n",
              "57648          Zwan         Desire   \n",
              "57649          Zwan      Heartsong   \n",
              "\n",
              "                                              link  \\\n",
              "57645  /z/ziggy+marley/good+old+days_10198588.html   \n",
              "57646  /z/ziggy+marley/hand+to+mouth_20531167.html   \n",
              "57647           /z/zwan/come+with+me_20148981.html   \n",
              "57648                 /z/zwan/desire_20148986.html   \n",
              "57649              /z/zwan/heartsong_20148991.html   \n",
              "\n",
              "                                                    text  \n",
              "57645  Irie days come on play  \\r\\nLet the angels fly...  \n",
              "57646  Power to the workers  \\r\\nMore power  \\r\\nPowe...  \n",
              "57647  all you need  \\r\\nis something i'll believe  \\...  \n",
              "57648  northern star  \\r\\nam i frightened  \\r\\nwhere ...  \n",
              "57649  come in  \\r\\nmake yourself at home  \\r\\ni'm a ...  "
            ]
          },
          "execution_count": 8,
          "metadata": {},
          "output_type": "execute_result"
        }
      ],
      "source": [
        "df.tail(5)"
      ]
    },
    {
      "cell_type": "code",
      "execution_count": 9,
      "metadata": {
        "colab": {
          "base_uri": "https://localhost:8080/",
          "height": 209
        },
        "id": "H-ULttBDhPsX",
        "outputId": "093c6e0a-5fde-4973-fea3-e70fea203475"
      },
      "outputs": [
        {
          "data": {
            "text/plain": [
              "artist    0\n",
              "song      0\n",
              "link      0\n",
              "text      0\n",
              "dtype: int64"
            ]
          },
          "execution_count": 9,
          "metadata": {},
          "output_type": "execute_result"
        }
      ],
      "source": [
        "df.isnull().sum()"
      ]
    },
    {
      "cell_type": "code",
      "execution_count": 10,
      "metadata": {
        "id": "7vzJS0v6hRf_"
      },
      "outputs": [],
      "source": [
        "df = df.sample(5000).drop('link', axis=1).reset_index(drop=True)"
      ]
    },
    {
      "cell_type": "code",
      "execution_count": 11,
      "metadata": {
        "colab": {
          "base_uri": "https://localhost:8080/",
          "height": 109
        },
        "id": "qwycqF2lhTlF",
        "outputId": "97ea31be-b6dc-4175-f0d7-4696a71a922f"
      },
      "outputs": [
        {
          "data": {
            "text/plain": [
              "'I\\'m a Russian Jew American  \\r\\nImpersonating African Jamaican  \\r\\nWhat I wanna be\\'s an Indian  \\r\\nI\\'m gonna be a cowboy in the end I guess  \\r\\nI guess I bought a gun cause it impresses  \\r\\nAll the little girls I see  \\r\\nAnd then they all wanna sleep with me  \\r\\n  \\r\\nOh, where do we disappear?  \\r\\nInto the silence that surrounds us  \\r\\nand then drowns us in the end  \\r\\nWhere all these people who impersonate our friends  \\r\\nSay, \"Come again, come again, come again\"  \\r\\n  \\r\\nInto the dark Italian underground of disco lights and disco sound  \\r\\nAnd skinny girls who drink champagne  \\r\\nAnd take me on their knees again  \\r\\nThen pull me up and out the door  \\r\\nPast railway cars and tranny whores  \\r\\nAnd morning spreading out across the feathered thighs of angels  \\r\\n  \\r\\nOh, where do we disappear?  \\r\\nInto the silence that surrounds us  \\r\\nand then drowns us in the end  \\r\\nWhere they try to push you out to keep you in  \\r\\nAnd say, \"Come again, come again, come again\"  \\r\\n  \\r\\nIn 1492, Columbus sailed the ocean blue  \\r\\nIn 1493, came home across the deep blue sea  \\r\\nIn 1494, he did it with the girl next door  \\r\\nIn 1495, he barely made it out alive  \\r\\nIn 1964, these sailors left me at the door  \\r\\nIn 1970, some people got their hands on me  \\r\\nNow I\\'m the king of everything  \\r\\nAnd I\\'m the king of nothing  \\r\\nNow I\\'m the king of everything  \\r\\nI am the king of nothing  \\r\\n  \\r\\nOh, where do we disappear?  \\r\\nInto the silence that surrounds us  \\r\\nAnd then drowns us in the end  \\r\\nWhere all these people who impersonate our friends  \\r\\nSay, \"Come again, come again. come again\"  \\r\\n  \\r\\nOh, where do we disappear?  \\r\\nInto the silence that surrounds us  \\r\\nAnd then drowns us in the end  \\r\\nWhere they try to get you out to get you in  \\r\\nAnd all these people who impersonate our friends  \\r\\nSay, \"Come again, come again, come again\"\\r\\n\\r\\n'"
            ]
          },
          "execution_count": 11,
          "metadata": {},
          "output_type": "execute_result"
        }
      ],
      "source": [
        "df['text'][0]"
      ]
    },
    {
      "cell_type": "code",
      "execution_count": 12,
      "metadata": {
        "colab": {
          "base_uri": "https://localhost:8080/"
        },
        "id": "yqfzScZlhaaQ",
        "outputId": "67b5529f-5ed9-4eb8-87aa-593a16608118"
      },
      "outputs": [
        {
          "data": {
            "text/plain": [
              "(5000, 3)"
            ]
          },
          "execution_count": 12,
          "metadata": {},
          "output_type": "execute_result"
        }
      ],
      "source": [
        "df.shape"
      ]
    },
    {
      "cell_type": "code",
      "execution_count": 14,
      "metadata": {
        "id": "8JuLHBfzhcVQ"
      },
      "outputs": [],
      "source": [
        "#Text Preprocessiong"
      ]
    },
    {
      "cell_type": "code",
      "execution_count": 13,
      "metadata": {
        "id": "HWonTWthhi3l"
      },
      "outputs": [],
      "source": [
        "df['text'] = df['text'].str.lower().str.replace(r'\\n', ' ', regex=True)\n"
      ]
    },
    {
      "cell_type": "code",
      "execution_count": 14,
      "metadata": {
        "id": "KfF5bAANhklc"
      },
      "outputs": [],
      "source": [
        "stemmer = PorterStemmer()\n"
      ]
    },
    {
      "cell_type": "code",
      "execution_count": 15,
      "metadata": {
        "id": "A2hsUbonhl29"
      },
      "outputs": [],
      "source": [
        "def token(txt):\n",
        "    tokens = txt.lower().split()  # Simple whitespace tokenizer\n",
        "    return \" \".join([stemmer.stem(w) for w in tokens])"
      ]
    },
    {
      "cell_type": "code",
      "execution_count": 16,
      "metadata": {
        "colab": {
          "base_uri": "https://localhost:8080/"
        },
        "id": "MH4ywVsahnvF",
        "outputId": "624593c8-e710-4592-c328-e27fb645c44f"
      },
      "outputs": [
        {
          "name": "stdout",
          "output_type": "stream",
          "text": [
            "you are beauty, beauti\n"
          ]
        }
      ],
      "source": [
        "print(token(\"you are beauty, beautiful\"))"
      ]
    },
    {
      "cell_type": "code",
      "execution_count": 17,
      "metadata": {
        "colab": {
          "base_uri": "https://localhost:8080/",
          "height": 458
        },
        "id": "nMH9LYHuu--6",
        "outputId": "b382611c-4aa3-42e1-b437-74f6a6144282"
      },
      "outputs": [
        {
          "data": {
            "text/plain": [
              "0       i'm a russian jew american imperson african ja...\n",
              "1       hi old man wa a rebel yeller. bad boy to the b...\n",
              "2       from earli in novemb to the last week of decem...\n",
              "3       up early, smokin' and plottin' look at these l...\n",
              "4       written by bonni dodd - charl mitchel record b...\n",
              "                              ...                        \n",
              "4995    i tri to pictur a girl through a look glass se...\n",
              "4996    hey kind friend i don't know when i'll see you...\n",
              "4997    ooooh run away, the past will bite again ooooh...\n",
              "4998    i work all night for one more day that i can s...\n",
              "4999    i'm walk down roppongi the night is hot and sm...\n",
              "Name: text, Length: 5000, dtype: object"
            ]
          },
          "execution_count": 17,
          "metadata": {},
          "output_type": "execute_result"
        }
      ],
      "source": [
        "df['text'].apply(lambda x: token(x))"
      ]
    },
    {
      "cell_type": "code",
      "execution_count": 19,
      "metadata": {},
      "outputs": [
        {
          "name": "stdout",
          "output_type": "stream",
          "text": [
            "Collecting scikit-learn\n",
            "  Downloading scikit_learn-1.7.0-cp312-cp312-win_amd64.whl.metadata (14 kB)\n",
            "Requirement already satisfied: numpy>=1.22.0 in d:\\ai\\music recommender system\\venv\\lib\\site-packages (from scikit-learn) (2.3.1)\n",
            "Collecting scipy>=1.8.0 (from scikit-learn)\n",
            "  Downloading scipy-1.16.0-cp312-cp312-win_amd64.whl.metadata (60 kB)\n",
            "     ---------------------------------------- 0.0/60.8 kB ? eta -:--:--\n",
            "     ------ --------------------------------- 10.2/60.8 kB ? eta -:--:--\n",
            "     ------------------- ------------------ 30.7/60.8 kB 660.6 kB/s eta 0:00:01\n",
            "     -------------------------------------- 60.8/60.8 kB 647.6 kB/s eta 0:00:00\n",
            "Requirement already satisfied: joblib>=1.2.0 in d:\\ai\\music recommender system\\venv\\lib\\site-packages (from scikit-learn) (1.5.1)\n",
            "Collecting threadpoolctl>=3.1.0 (from scikit-learn)\n",
            "  Downloading threadpoolctl-3.6.0-py3-none-any.whl.metadata (13 kB)\n",
            "Downloading scikit_learn-1.7.0-cp312-cp312-win_amd64.whl (10.7 MB)\n",
            "   ---------------------------------------- 0.0/10.7 MB ? eta -:--:--\n",
            "    --------------------------------------- 0.2/10.7 MB 4.1 MB/s eta 0:00:03\n",
            "   --- ------------------------------------ 0.9/10.7 MB 9.5 MB/s eta 0:00:02\n",
            "   ------ --------------------------------- 1.8/10.7 MB 12.5 MB/s eta 0:00:01\n",
            "   ----------- ---------------------------- 3.2/10.7 MB 16.8 MB/s eta 0:00:01\n",
            "   ------------- -------------------------- 3.6/10.7 MB 16.4 MB/s eta 0:00:01\n",
            "   ------------------ --------------------- 5.0/10.7 MB 18.7 MB/s eta 0:00:01\n",
            "   ---------------------- ----------------- 6.0/10.7 MB 19.1 MB/s eta 0:00:01\n",
            "   ---------------------------- ----------- 7.6/10.7 MB 21.2 MB/s eta 0:00:01\n",
            "   ------------------------------- -------- 8.5/10.7 MB 21.0 MB/s eta 0:00:01\n",
            "   ----------------------------------- ---- 9.6/10.7 MB 21.9 MB/s eta 0:00:01\n",
            "   ---------------------------------------  10.6/10.7 MB 23.4 MB/s eta 0:00:01\n",
            "   ---------------------------------------- 10.7/10.7 MB 21.1 MB/s eta 0:00:00\n",
            "Downloading scipy-1.16.0-cp312-cp312-win_amd64.whl (38.4 MB)\n",
            "   ---------------------------------------- 0.0/38.4 MB ? eta -:--:--\n",
            "   - -------------------------------------- 1.4/38.4 MB 29.2 MB/s eta 0:00:02\n",
            "   -- ------------------------------------- 2.0/38.4 MB 32.0 MB/s eta 0:00:02\n",
            "   -- ------------------------------------- 2.0/38.4 MB 32.0 MB/s eta 0:00:02\n",
            "   -- ------------------------------------- 2.7/38.4 MB 14.2 MB/s eta 0:00:03\n",
            "   ---- ----------------------------------- 4.4/38.4 MB 18.7 MB/s eta 0:00:02\n",
            "   ------ --------------------------------- 5.9/38.4 MB 22.1 MB/s eta 0:00:02\n",
            "   ------ --------------------------------- 6.6/38.4 MB 21.1 MB/s eta 0:00:02\n",
            "   -------- ------------------------------- 8.1/38.4 MB 22.6 MB/s eta 0:00:02\n",
            "   --------- ------------------------------ 8.8/38.4 MB 21.7 MB/s eta 0:00:02\n",
            "   ---------- ----------------------------- 10.4/38.4 MB 22.6 MB/s eta 0:00:02\n",
            "   ------------ --------------------------- 11.5/38.4 MB 21.8 MB/s eta 0:00:02\n",
            "   ------------- -------------------------- 12.7/38.4 MB 26.2 MB/s eta 0:00:01\n",
            "   -------------- ------------------------- 13.8/38.4 MB 24.2 MB/s eta 0:00:02\n",
            "   --------------- ------------------------ 14.8/38.4 MB 25.1 MB/s eta 0:00:01\n",
            "   ---------------- ----------------------- 16.1/38.4 MB 23.4 MB/s eta 0:00:01\n",
            "   ----------------- ---------------------- 17.2/38.4 MB 24.2 MB/s eta 0:00:01\n",
            "   ------------------- -------------------- 18.3/38.4 MB 23.4 MB/s eta 0:00:01\n",
            "   -------------------- ------------------- 19.6/38.4 MB 24.2 MB/s eta 0:00:01\n",
            "   --------------------- ------------------ 20.6/38.4 MB 23.4 MB/s eta 0:00:01\n",
            "   ---------------------- ----------------- 21.8/38.4 MB 26.2 MB/s eta 0:00:01\n",
            "   ------------------------ --------------- 23.2/38.4 MB 24.2 MB/s eta 0:00:01\n",
            "   ------------------------- -------------- 24.1/38.4 MB 24.2 MB/s eta 0:00:01\n",
            "   -------------------------- ------------- 25.4/38.4 MB 25.1 MB/s eta 0:00:01\n",
            "   --------------------------- ------------ 26.4/38.4 MB 24.2 MB/s eta 0:00:01\n",
            "   ---------------------------- ----------- 27.9/38.4 MB 25.2 MB/s eta 0:00:01\n",
            "   ----------------------------- ---------- 28.7/38.4 MB 23.4 MB/s eta 0:00:01\n",
            "   ------------------------------ --------- 29.7/38.4 MB 24.2 MB/s eta 0:00:01\n",
            "   ------------------------------- -------- 30.4/38.4 MB 24.2 MB/s eta 0:00:01\n",
            "   ------------------------------- -------- 30.4/38.4 MB 24.2 MB/s eta 0:00:01\n",
            "   ------------------------------- -------- 30.4/38.4 MB 24.2 MB/s eta 0:00:01\n",
            "   --------------------------------- ------ 32.3/38.4 MB 20.5 MB/s eta 0:00:01\n",
            "   --------------------------------- ------ 32.5/38.4 MB 19.9 MB/s eta 0:00:01\n",
            "   ---------------------------------- ----- 33.6/38.4 MB 18.7 MB/s eta 0:00:01\n",
            "   ------------------------------------ --- 34.7/38.4 MB 18.7 MB/s eta 0:00:01\n",
            "   ------------------------------------- -- 35.8/38.4 MB 18.2 MB/s eta 0:00:01\n",
            "   -------------------------------------- - 36.8/38.4 MB 18.7 MB/s eta 0:00:01\n",
            "   ---------------------------------------  38.1/38.4 MB 18.7 MB/s eta 0:00:01\n",
            "   ---------------------------------------  38.4/38.4 MB 17.7 MB/s eta 0:00:01\n",
            "   ---------------------------------------  38.4/38.4 MB 17.7 MB/s eta 0:00:01\n",
            "   ---------------------------------------  38.4/38.4 MB 17.7 MB/s eta 0:00:01\n",
            "   ---------------------------------------- 38.4/38.4 MB 14.9 MB/s eta 0:00:00\n",
            "Downloading threadpoolctl-3.6.0-py3-none-any.whl (18 kB)\n",
            "Installing collected packages: threadpoolctl, scipy, scikit-learn\n",
            "Successfully installed scikit-learn-1.7.0 scipy-1.16.0 threadpoolctl-3.6.0\n"
          ]
        },
        {
          "name": "stderr",
          "output_type": "stream",
          "text": [
            "\n",
            "[notice] A new release of pip is available: 24.0 -> 25.1.1\n",
            "[notice] To update, run: python.exe -m pip install --upgrade pip\n"
          ]
        }
      ],
      "source": [
        "!pip install scikit-learn\n",
        "\n"
      ]
    },
    {
      "cell_type": "code",
      "execution_count": 20,
      "metadata": {
        "id": "cTYj04bqhpWy"
      },
      "outputs": [],
      "source": [
        "from sklearn.feature_extraction.text import TfidfVectorizer\n",
        "from sklearn.metrics.pairwise import cosine_similarity"
      ]
    },
    {
      "cell_type": "code",
      "execution_count": 21,
      "metadata": {
        "id": "dAEckDiPueC9"
      },
      "outputs": [],
      "source": [
        "tfid = TfidfVectorizer(analyzer='word', stop_words='english')"
      ]
    },
    {
      "cell_type": "code",
      "execution_count": 22,
      "metadata": {
        "id": "89rd5w2LvkMB"
      },
      "outputs": [],
      "source": [
        "matrix = tfid.fit_transform(df['text'])"
      ]
    },
    {
      "cell_type": "code",
      "execution_count": 23,
      "metadata": {
        "id": "1emKd5ijvyap"
      },
      "outputs": [],
      "source": [
        "similar = cosine_similarity(matrix)"
      ]
    },
    {
      "cell_type": "code",
      "execution_count": 24,
      "metadata": {
        "colab": {
          "base_uri": "https://localhost:8080/"
        },
        "id": "73gAe0Ixv6IX",
        "outputId": "d6b507ee-97b7-4c7e-c9d0-322702a948a1"
      },
      "outputs": [
        {
          "data": {
            "text/plain": [
              "array([1.        , 0.05756054, 0.01068171, ..., 0.01409896, 0.07120867,\n",
              "       0.00157738], shape=(5000,))"
            ]
          },
          "execution_count": 24,
          "metadata": {},
          "output_type": "execute_result"
        }
      ],
      "source": [
        "similar[0]"
      ]
    },
    {
      "cell_type": "code",
      "execution_count": 25,
      "metadata": {
        "colab": {
          "base_uri": "https://localhost:8080/"
        },
        "id": "hZNnaWFDcxCA",
        "outputId": "deefa17b-cef2-4a84-930e-2eecf4107fca"
      },
      "outputs": [
        {
          "name": "stdout",
          "output_type": "stream",
          "text": [
            "             artist                                    song  \\\n",
            "1034        Genesis                        The Waiting Room   \n",
            "1189            Zox                       I Am Only Waiting   \n",
            "1531  Xavier Naidoo                          I'd Be Waiting   \n",
            "1955      Nick Cave  Are You The One I've Been Waiting For?   \n",
            "3332          Doors                     Waiting For The Sun   \n",
            "3443        Extreme                       Watching, Waiting   \n",
            "4001           ABBA               I've Been Waiting For You   \n",
            "4789           Kiss                       Ladies In Waiting   \n",
            "\n",
            "                                                   text  \n",
            "1034  he panics, feels around for a stone and hurls ...  \n",
            "1189  every day is an endless dream  \\r of traffic l...  \n",
            "1531  i'd be waiting, waiting for a lifetime i'm sur...  \n",
            "1955  i've felt you coming girl, as you drew near  \\...  \n",
            "3332  at first flash of eden, we race down to the se...  \n",
            "3443  hanging above the ground  \\r all my limbs are ...  \n",
            "4001  i, i've been in love before  \\r i thought i wo...  \n",
            "4789  so you been to the market  \\r and the meat loo...  \n"
          ]
        }
      ],
      "source": [
        "print(df[df['song'].str.contains('Waiting', case=False, na=False)])\n",
        "\n"
      ]
    },
    {
      "cell_type": "code",
      "execution_count": 26,
      "metadata": {
        "colab": {
          "base_uri": "https://localhost:8080/"
        },
        "id": "CdgeC80VwRGb",
        "outputId": "af7fdf47-5c73-4b75-a01e-a99d5c391b8b"
      },
      "outputs": [
        {
          "name": "stdout",
          "output_type": "stream",
          "text": [
            "     artist               song  \\\n",
            "1189    Zox  I Am Only Waiting   \n",
            "\n",
            "                                                   text  \n",
            "1189  every day is an endless dream  \\r of traffic l...  \n"
          ]
        }
      ],
      "source": [
        "result = df[df['song'].str.contains('I Am Only Waiting', case=False, na=False)][['artist', 'song', 'text']]\n",
        "\n",
        "if result.empty:\n",
        "    print(\"Song not found.\")\n",
        "else:\n",
        "    print(result.head())"
      ]
    },
    {
      "cell_type": "code",
      "execution_count": 27,
      "metadata": {
        "colab": {
          "base_uri": "https://localhost:8080/"
        },
        "id": "6GYnQx91fd7m",
        "outputId": "c72e904a-e68a-466c-bf9c-656eafd93f5d"
      },
      "outputs": [
        {
          "data": {
            "text/plain": [
              "1189"
            ]
          },
          "execution_count": 27,
          "metadata": {},
          "output_type": "execute_result"
        }
      ],
      "source": [
        "int(df[df['song'] == 'I Am Only Waiting' ].index[0])"
      ]
    },
    {
      "cell_type": "code",
      "execution_count": 39,
      "metadata": {
        "id": "UIr2K1_3hJHK"
      },
      "outputs": [],
      "source": [
        "#Recommender Function"
      ]
    },
    {
      "cell_type": "code",
      "execution_count": 28,
      "metadata": {
        "id": "egnZaME8hMn1"
      },
      "outputs": [],
      "source": [
        "def recommender(song_name):\n",
        "  idx = int(df[df['song'] == song_name].index[0])\n",
        "  distance = sorted(list(enumerate(similar[idx])), reverse=True, key=lambda x:x[1])\n",
        "  song = []\n",
        "  for s_id in distance[1:11]:\n",
        "      song.append(df.iloc[s_id[0]].song)\n",
        "  return song"
      ]
    },
    {
      "cell_type": "code",
      "execution_count": 32,
      "metadata": {
        "colab": {
          "base_uri": "https://localhost:8080/"
        },
        "id": "rsYSA3jJh3_Z",
        "outputId": "fb8d4575-389f-4a42-9eb2-9ba66e55eb84"
      },
      "outputs": [
        {
          "data": {
            "text/plain": [
              "['Waiting For The Sun',\n",
              " 'Burning Bridge',\n",
              " 'Can You Feel It',\n",
              " 'Stop! In The Name Of Love',\n",
              " 'Chains Around My Heart',\n",
              " 'Break My Mind',\n",
              " 'Ladies In Waiting',\n",
              " 'Sunshine Of Your Love',\n",
              " 'New Blue Moon',\n",
              " 'The Other Side']"
            ]
          },
          "execution_count": 32,
          "metadata": {},
          "output_type": "execute_result"
        }
      ],
      "source": [
        "recommender(\"I Am Only Waiting\")"
      ]
    },
    {
      "cell_type": "code",
      "execution_count": 33,
      "metadata": {
        "id": "IswAFkcwomZK"
      },
      "outputs": [],
      "source": [
        "pickle.dump(similar, open(\"similarity\", \"wb\"))"
      ]
    },
    {
      "cell_type": "code",
      "execution_count": 34,
      "metadata": {
        "id": "3OdbZ3Sfo53I"
      },
      "outputs": [],
      "source": [
        "pickle.dump(df, open(\"df\", \"wb\"))"
      ]
    },
    {
      "cell_type": "code",
      "execution_count": null,
      "metadata": {
        "id": "jeoUpZgYpAyc"
      },
      "outputs": [],
      "source": []
    }
  ],
  "metadata": {
    "accelerator": "GPU",
    "colab": {
      "gpuType": "T4",
      "provenance": []
    },
    "kernelspec": {
      "display_name": "venv",
      "language": "python",
      "name": "python3"
    },
    "language_info": {
      "codemirror_mode": {
        "name": "ipython",
        "version": 3
      },
      "file_extension": ".py",
      "mimetype": "text/x-python",
      "name": "python",
      "nbconvert_exporter": "python",
      "pygments_lexer": "ipython3",
      "version": "3.12.3"
    }
  },
  "nbformat": 4,
  "nbformat_minor": 0
}
